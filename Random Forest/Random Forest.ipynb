{
 "cells": [
  {
   "cell_type": "code",
   "execution_count": 11,
   "id": "118cbae9",
   "metadata": {},
   "outputs": [
    {
     "data": {
      "text/html": [
       "<div>\n",
       "<style scoped>\n",
       "    .dataframe tbody tr th:only-of-type {\n",
       "        vertical-align: middle;\n",
       "    }\n",
       "\n",
       "    .dataframe tbody tr th {\n",
       "        vertical-align: top;\n",
       "    }\n",
       "\n",
       "    .dataframe thead th {\n",
       "        text-align: right;\n",
       "    }\n",
       "</style>\n",
       "<table border=\"1\" class=\"dataframe\">\n",
       "  <thead>\n",
       "    <tr style=\"text-align: right;\">\n",
       "      <th></th>\n",
       "      <th>fire_record</th>\n",
       "      <th>IMD_score</th>\n",
       "      <th>population</th>\n",
       "      <th>White</th>\n",
       "      <th>mixed/multiple_ethnic_groups</th>\n",
       "      <th>Asian/Asian_British</th>\n",
       "      <th>Black/African/Caribbean/Black British</th>\n",
       "      <th>other_ethnic_group</th>\n",
       "      <th>Household_spaces_with_no_usual_residents</th>\n",
       "      <th>Household_Median_Annual_Household_Income_estimate_2012</th>\n",
       "    </tr>\n",
       "  </thead>\n",
       "  <tbody>\n",
       "    <tr>\n",
       "      <th>0</th>\n",
       "      <td>1</td>\n",
       "      <td>6.21</td>\n",
       "      <td>113.56</td>\n",
       "      <td>84.51</td>\n",
       "      <td>3.69</td>\n",
       "      <td>8.74</td>\n",
       "      <td>0.75</td>\n",
       "      <td>2.32</td>\n",
       "      <td>13.44</td>\n",
       "      <td>58347.32</td>\n",
       "    </tr>\n",
       "    <tr>\n",
       "      <th>1</th>\n",
       "      <td>1</td>\n",
       "      <td>5.14</td>\n",
       "      <td>63.70</td>\n",
       "      <td>88.72</td>\n",
       "      <td>3.76</td>\n",
       "      <td>6.62</td>\n",
       "      <td>0.28</td>\n",
       "      <td>0.63</td>\n",
       "      <td>14.96</td>\n",
       "      <td>57159.50</td>\n",
       "    </tr>\n",
       "    <tr>\n",
       "      <th>2</th>\n",
       "      <td>0</td>\n",
       "      <td>19.40</td>\n",
       "      <td>229.61</td>\n",
       "      <td>78.38</td>\n",
       "      <td>4.09</td>\n",
       "      <td>12.48</td>\n",
       "      <td>3.34</td>\n",
       "      <td>1.71</td>\n",
       "      <td>7.89</td>\n",
       "      <td>34386.56</td>\n",
       "    </tr>\n",
       "    <tr>\n",
       "      <th>3</th>\n",
       "      <td>1</td>\n",
       "      <td>28.65</td>\n",
       "      <td>61.81</td>\n",
       "      <td>51.37</td>\n",
       "      <td>5.99</td>\n",
       "      <td>27.82</td>\n",
       "      <td>10.15</td>\n",
       "      <td>4.67</td>\n",
       "      <td>11.55</td>\n",
       "      <td>23999.85</td>\n",
       "    </tr>\n",
       "    <tr>\n",
       "      <th>4</th>\n",
       "      <td>0</td>\n",
       "      <td>19.84</td>\n",
       "      <td>116.92</td>\n",
       "      <td>32.71</td>\n",
       "      <td>3.41</td>\n",
       "      <td>50.56</td>\n",
       "      <td>10.39</td>\n",
       "      <td>2.94</td>\n",
       "      <td>2.69</td>\n",
       "      <td>39140.64</td>\n",
       "    </tr>\n",
       "  </tbody>\n",
       "</table>\n",
       "</div>"
      ],
      "text/plain": [
       "   fire_record  IMD_score  population  White  mixed/multiple_ethnic_groups  \\\n",
       "0            1       6.21      113.56  84.51                          3.69   \n",
       "1            1       5.14       63.70  88.72                          3.76   \n",
       "2            0      19.40      229.61  78.38                          4.09   \n",
       "3            1      28.65       61.81  51.37                          5.99   \n",
       "4            0      19.84      116.92  32.71                          3.41   \n",
       "\n",
       "   Asian/Asian_British  Black/African/Caribbean/Black British  \\\n",
       "0                 8.74                                   0.75   \n",
       "1                 6.62                                   0.28   \n",
       "2                12.48                                   3.34   \n",
       "3                27.82                                  10.15   \n",
       "4                50.56                                  10.39   \n",
       "\n",
       "   other_ethnic_group  Household_spaces_with_no_usual_residents  \\\n",
       "0                2.32                                     13.44   \n",
       "1                0.63                                     14.96   \n",
       "2                1.71                                      7.89   \n",
       "3                4.67                                     11.55   \n",
       "4                2.94                                      2.69   \n",
       "\n",
       "   Household_Median_Annual_Household_Income_estimate_2012  \n",
       "0                                           58347.32       \n",
       "1                                           57159.50       \n",
       "2                                           34386.56       \n",
       "3                                           23999.85       \n",
       "4                                           39140.64       "
      ]
     },
     "execution_count": 11,
     "metadata": {},
     "output_type": "execute_result"
    }
   ],
   "source": [
    "import pandas as pd\n",
    "import numpy as np\n",
    "from sklearn.model_selection import train_test_split\n",
    "from sklearn.ensemble import RandomForestClassifier\n",
    "df =  pd.read_csv('Data - RF2.csv') \n",
    "dc = df.iloc[:,:]\n",
    "dc.head()\n"
   ]
  },
  {
   "cell_type": "code",
   "execution_count": 12,
   "id": "d95924a3",
   "metadata": {},
   "outputs": [
    {
     "data": {
      "text/plain": [
       "RandomForestClassifier(n_estimators=10000, n_jobs=-1, random_state=0)"
      ]
     },
     "execution_count": 12,
     "metadata": {},
     "output_type": "execute_result"
    }
   ],
   "source": [
    "x, y = dc.iloc[:, 1:].values, dc.iloc[:, 0].values\n",
    "dc.head()\n",
    "x_train, x_test, y_train, y_test = train_test_split(x, y, test_size = 0.3, random_state = 0)\n",
    "feat_labels = dc.columns[1:]\n",
    "forest = RandomForestClassifier(n_estimators=10000, random_state=0, n_jobs=-1)\n",
    "forest.fit(x_train, y_train)\n"
   ]
  },
  {
   "cell_type": "code",
   "execution_count": 13,
   "id": "ad0d4225",
   "metadata": {},
   "outputs": [
    {
     "name": "stdout",
     "output_type": "stream",
     "text": [
      " 1) population                     0.122500\n",
      " 2) Black/African/Caribbean/Black British 0.114717\n",
      " 3) Household_Median_Annual_Household_Income_estimate_2012 0.112439\n",
      " 4) Household_spaces_with_no_usual_residents 0.111543\n",
      " 5) mixed/multiple_ethnic_groups   0.110159\n",
      " 6) other_ethnic_group             0.108902\n",
      " 7) IMD_score                      0.108772\n",
      " 8) Asian/Asian_British            0.105906\n",
      " 9) White                          0.105061\n"
     ]
    }
   ],
   "source": [
    "importances = forest.feature_importances_\n",
    "indices = np.argsort(importances)[::-1]\n",
    "for f in range(x_train.shape[1]):\n",
    "    print(\"%2d) %-*s %f\" % (f + 1, 30, feat_labels[indices[f]], importances[indices[f]]))"
   ]
  },
  {
   "cell_type": "code",
   "execution_count": null,
   "id": "c8153c74",
   "metadata": {},
   "outputs": [],
   "source": []
  }
 ],
 "metadata": {
  "kernelspec": {
   "display_name": "Python 3",
   "language": "python",
   "name": "python3"
  },
  "language_info": {
   "codemirror_mode": {
    "name": "ipython",
    "version": 3
   },
   "file_extension": ".py",
   "mimetype": "text/x-python",
   "name": "python",
   "nbconvert_exporter": "python",
   "pygments_lexer": "ipython3",
   "version": "3.8.10"
  }
 },
 "nbformat": 4,
 "nbformat_minor": 5
}
