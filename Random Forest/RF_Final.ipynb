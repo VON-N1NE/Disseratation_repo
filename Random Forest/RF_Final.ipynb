{
 "cells": [
  {
   "cell_type": "code",
   "execution_count": 8,
   "id": "db16e2b9",
   "metadata": {},
   "outputs": [
    {
     "name": "stdout",
     "output_type": "stream",
     "text": [
      "Best parameters: {'criterion': 'gini', 'max_depth': 10, 'n_estimators': 100}\n",
      "\n",
      "【Permutation feature importance】：\n",
      "population\t0.019 +/- 0.018\n",
      "other_ethnic_group\t0.011 +/- 0.019\n",
      "mixed/multiple_ethnic_groups\t0.010 +/- 0.016\n",
      "Black/African/Caribbean/Black British\t-0.008 +/- 0.014\n",
      "Asian/Asian_British\t-0.011 +/- 0.012\n",
      "Household_spaces_with_no_usual_residents\t-0.017 +/- 0.013\n",
      "Household_Median_Annual_Household_Income_estimate_2012\t-0.023 +/- 0.018\n",
      "White   \t-0.026 +/- 0.013\n",
      "IMD_score\t-0.028 +/- 0.013\n",
      "\n",
      "\n",
      "【Method】：forest\n",
      "【Accuracy】：0.6541666666666667\n",
      "【Report】：\n",
      "              precision    recall  f1-score   support\n",
      "\n",
      "           0     0.6000    0.7364    0.6612       110\n",
      "           1     0.7238    0.5846    0.6468       130\n",
      "\n",
      "    accuracy                         0.6542       240\n",
      "   macro avg     0.6619    0.6605    0.6540       240\n",
      "weighted avg     0.6671    0.6542    0.6534       240\n",
      "\n",
      "【Confusion matrix】：\n",
      "[[81 29]\n",
      " [54 76]]\n"
     ]
    }
   ],
   "source": [
    "import os\n",
    "import sys\n",
    "import numpy as np\n",
    "import pandas as pd\n",
    "import seaborn as sns\n",
    "from sklearn import metrics\n",
    "from sklearn.model_selection import train_test_split\n",
    "from sklearn.preprocessing import MinMaxScaler\n",
    "from sklearn.neighbors import KNeighborsClassifier\n",
    "from sklearn.linear_model import LogisticRegression\n",
    "from sklearn.model_selection import GridSearchCV\n",
    "from sklearn.ensemble import RandomForestClassifier\n",
    "from sklearn.inspection import permutation_importance\n",
    "\n",
    "\n",
    "\n",
    "\n",
    "np.random.seed(0)\n",
    "scaler = MinMaxScaler()\n",
    "\n",
    "\n",
    "def get_data(scaling):\n",
    "\n",
    "\n",
    "    dataset = pd.read_csv(\"Data.csv\")\n",
    "    grouped = dataset.groupby('fire_record')\n",
    "    labels = list(grouped.groups.keys())\n",
    "    X_data = []\n",
    "    y_data = []\n",
    "    for label in labels:\n",
    "        each_data = grouped.get_group(label)\n",
    "        each_train_x = each_data.iloc[:, 1:].values[:600]\n",
    "        each_train_y = each_data.iloc[:, 0].values[:600]\n",
    "        for x in each_train_x:\n",
    "            X_data.append(x)\n",
    "        for y in each_train_y:\n",
    "            y_data.append(y)\n",
    "\n",
    "    X_train, X_test, y_train, y_test = train_test_split(X_data, y_data, test_size=0.2, random_state=0)\n",
    "\n",
    "    if scaling:\n",
    "        X_train = scaler.fit_transform(X_train)\n",
    "        X_test = scaler.transform(X_test)\n",
    "\n",
    "    feature_names = list(dataset.columns[1: ])\n",
    "    return X_train, y_train, X_test, y_test, feature_names\n",
    "\n",
    "\n",
    "def feature_imp(model, X_test, y_test, feature_names):\n",
    "    r = permutation_importance(model, X_test, y_test, n_repeats=30, random_state=0)\n",
    "    for i in r.importances_mean.argsort()[::-1]:\n",
    "     \n",
    "        print(f\"{feature_names[i]:<8}\\t{r.importances_mean[i]:.3f} +/- {r.importances_std[i]:.3f}\")\n",
    "\n",
    "\n",
    "def build_classifier(method, X_train, y_train):\n",
    "    if method == 'forest':\n",
    "        cv_params = {'criterion': ['gini', 'entropy'], 'max_depth': [5, 10, 20], 'n_estimators': [100, 200, 300]}\n",
    "        classifier = RandomForestClassifier(random_state=0)\n",
    "    elif method == 'KNN':\n",
    "        cv_params = {'n_neighbors': [3, 4, 5], 'weights': ['uniform', 'distance'], 'leaf_size': [20, 30, 40], 'p': [1, 2]}\n",
    "        classifier = KNeighborsClassifier()\n",
    "    elif method == 'logistic':\n",
    "        cv_params = {'C': [0.1, 1, 10], 'solver': ['newton-cg', 'lbfgs', 'liblinear', 'sag', 'saga']}\n",
    "        classifier = LogisticRegression(random_state=0, max_iter=500)\n",
    "    gs = GridSearchCV(classifier, cv_params)\n",
    "    gs.fit(X_train, y_train)\n",
    "    print(\"Best parameters:\", gs.best_params_)\n",
    "    model = gs.best_estimator_\n",
    "    model.fit(X_train, y_train)\n",
    "    return model\n",
    "\n",
    "\n",
    "def get_report(model, x_data, y_data):\n",
    "    y_pred = model.predict(x_data)\n",
    "    acc = metrics.accuracy_score(y_data, y_pred)\n",
    "    report = metrics.classification_report(y_data, y_pred, digits=4)\n",
    "    confusion = metrics.confusion_matrix(y_data, y_pred)\n",
    "    return acc, report, confusion\n",
    "\n",
    "\n",
    "if __name__ == '__main__':\n",
    "\n",
    "    method = 'forest'\n",
    "    if method in ['KNN', 'logistic']:\n",
    "        scaling = True\n",
    "    else:\n",
    "        scaling = False\n",
    "    X_train, y_train, X_test, y_test, feature_names = get_data(scaling)\n",
    "    model = build_classifier(method, X_train, y_train)\n",
    "    print('\\n【Permutation feature importance】：')\n",
    "    feature_imp(model, X_test, y_test, feature_names)\n",
    "    print('\\n')\n",
    "    acc, report, confusion = get_report(model, X_test, y_test)\n",
    "    print(f'【Method】：{method}')\n",
    "    print(f'【Accuracy】：{acc}')\n",
    "    print(f'【Report】：\\n{report}')\n",
    "    print(f'【Confusion matrix】：\\n{confusion}')"
   ]
  },
  {
   "cell_type": "code",
   "execution_count": 10,
   "id": "7d517a11",
   "metadata": {},
   "outputs": [],
   "source": [
    "def plot_confusion_matrix(cm, labels_name):\n",
    "    sns.heatmap(cm, fmt='g', cmap='Blues', annot=True, cbar=True)\n",
    "\n"
   ]
  },
  {
   "cell_type": "code",
   "execution_count": 11,
   "id": "8cf5dab1",
   "metadata": {},
   "outputs": [
    {
     "data": {
      "image/png": "[encoded data removed]",
      "text/plain": [
       "<Figure size 432x288 with 2 Axes>"
      ]
     },
     "metadata": {
      "needs_background": "light"
     },
     "output_type": "display_data"
    }
   ],
   "source": [
    "plot_confusion_matrix(confusion, [0, 1])"
   ]
  },
  {
   "cell_type": "code",
   "execution_count": null,
   "id": "337a1c67",
   "metadata": {},
   "outputs": [],
   "source": []
  }
 ],
 "metadata": {
  "kernelspec": {
   "display_name": "Python 3",
   "language": "python",
   "name": "python3"
  },
  "language_info": {
   "codemirror_mode": {
    "name": "ipython",
    "version": 3
   },
   "file_extension": ".py",
   "mimetype": "text/x-python",
   "name": "python",
   "nbconvert_exporter": "python",
   "pygments_lexer": "ipython3",
   "version": "3.8.10"
  }
 },
 "nbformat": 4,
 "nbformat_minor": 5
}
